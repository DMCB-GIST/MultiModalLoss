{
 "cells": [
  {
   "cell_type": "code",
   "execution_count": 1,
   "metadata": {},
   "outputs": [],
   "source": [
    "import numpy as np\n",
    "import pandas as pd\n",
    "import random\n",
    "\n",
    "import seaborn as sns; sns.set_theme(color_codes=True)\n",
    "\n",
    "import torch\n",
    "import torch.nn as nn\n",
    "import torch.nn.functional as F\n",
    "import torch.optim as optim\n",
    "from torch.utils.data import  TensorDataset, DataLoader\n",
    "from multi_modal_loss import MultiModalLoss\n",
    "import math\n",
    "import matplotlib.pyplot as plt\n",
    "import matplotlib.pyplot as plt\n",
    "\n",
    "import os\n",
    "import random\n",
    "\n",
    "from scipy.special import softmax\n",
    "from sklearn.metrics import accuracy_score\n",
    "\n",
    "random_seed = 0\n",
    "torch.manual_seed(random_seed)\n",
    "torch.cuda.manual_seed(random_seed)\n",
    "torch.cuda.manual_seed_all(random_seed) \n",
    "torch.backends.cudnn.deterministic = True\n",
    "torch.backends.cudnn.benchmark = False\n",
    "np.random.seed(random_seed)\n",
    "random.seed(random_seed)\n",
    "\n",
    "torch.cuda.set_device(0) \n",
    "os.environ['CUDA_VISIBLE_DEVICES']='0'"
   ]
  },
  {
   "cell_type": "code",
   "execution_count": 2,
   "metadata": {},
   "outputs": [],
   "source": [
    "class EarlyStopping:\n",
    "    def __init__(self, patience=7, verbose=False, delta=0.0001, path='checkpoint.pt', trace_func=print):\n",
    "        \"\"\"\n",
    "        Args:\n",
    "            patience (int): How long to wait after last time validation loss improved.\n",
    "                            Default: 7\n",
    "            verbose (bool): If True, prints a message for each validation loss improvement. \n",
    "                            Default: False\n",
    "            delta (float): Minimum change in the monitored quantity to qualify as an improvement.\n",
    "                            Default: 0\n",
    "            path (str): Path for the checkpoint to be saved to.\n",
    "                            Default: 'checkpoint.pt'\n",
    "            trace_func (function): trace print function.\n",
    "                            Default: print            \n",
    "        \"\"\"\n",
    "        self.patience = patience\n",
    "        self.verbose = verbose\n",
    "        self.counter = 0\n",
    "        self.best_score = None\n",
    "        self.early_stop = False\n",
    "        self.val_loss_min = np.Inf\n",
    "        self.delta = delta\n",
    "        self.path = path\n",
    "        self.trace_func = trace_func\n",
    "    def __call__(self, val_loss, model):\n",
    "\n",
    "        score = -val_loss\n",
    "\n",
    "        if self.best_score is None:\n",
    "            self.best_score = score\n",
    "            self.save_checkpoint(val_loss, model)\n",
    "        elif score < self.best_score + self.delta:\n",
    "            self.counter += 1\n",
    "            if self.counter >self.patience:\n",
    "                self.trace_func(f'EarlyStopping counter: {self.counter} out of {self.patience}')\n",
    "            if self.counter >= self.patience:\n",
    "                self.early_stop = True\n",
    "        else:\n",
    "            self.best_score = score\n",
    "            self.save_checkpoint(val_loss, model)\n",
    "            self.counter = 0\n",
    "\n",
    "    def save_checkpoint(self, val_loss, model):\n",
    "        '''Saves model when validation loss decrease.'''\n",
    "        if self.verbose:\n",
    "            self.trace_func(f'Validation loss decreased ({self.val_loss_min:.6f} --> {val_loss:.6f}).  Saving model ...')\n",
    "        torch.save(model.state_dict(), self.path)\n",
    "        self.val_loss_min = val_loss"
   ]
  },
  {
   "cell_type": "code",
   "execution_count": 3,
   "metadata": {},
   "outputs": [],
   "source": [
    "# GE, ME 100\n",
    "class DNN(nn.Module):\n",
    "    def __init__(self):\n",
    "        super(DNN, self).__init__()\n",
    "        self.task11= nn.Linear(2000, 500)\n",
    "        self.task21= nn.Linear(2000, 500)\n",
    "        self.task31= nn.Linear(2000, 500)\n",
    "        \n",
    "        self.task12= nn.Linear(500, 100)\n",
    "        self.task22= nn.Linear(500, 100)\n",
    "        self.task32= nn.Linear(500, 100)\n",
    "\n",
    "        self.task13= nn.Linear(100, 20)\n",
    "        self.task23= nn.Linear(100, 20)\n",
    "        self.task33= nn.Linear(100, 20)\n",
    "\n",
    "        self.task14= nn.Linear(20, 2)\n",
    "        self.task24= nn.Linear(20, 2)\n",
    "        self.task34= nn.Linear(20, 2)\n",
    "        \n",
    "        self.softmax  = nn.Softmax(dim=-1)\n",
    "\n",
    "    def forward_one(self,xg,xm,xs):\n",
    "        xg = self.task11(xg)\n",
    "        xm = self.task21(xm)\n",
    "        xs = self.task31(xs)         \n",
    "\n",
    "        xg = self.task12(xg)\n",
    "        xm = self.task22(xm)\n",
    "        xs = self.task32(xs)         \n",
    "        \n",
    "        xg = self.task13(xg)\n",
    "        xm = self.task23(xm)\n",
    "        xs = self.task33(xs)      \n",
    "        \n",
    "        xg = self.task14(xg)\n",
    "        xm = self.task24(xm)\n",
    "        xs = self.task34(xs)     \n",
    "        \n",
    "        xg = self.softmax(xg)\n",
    "        xm = self.softmax(xm)\n",
    "        xs = self.softmax(xs)\n",
    "        \n",
    "        return xg,xm,xs"
   ]
  },
  {
   "cell_type": "code",
   "execution_count": 4,
   "metadata": {},
   "outputs": [],
   "source": [
    "train_1 = pd.read_csv('/data/sim_train_1_EHH.csv', header=0, index_col=None).values\n",
    "train_2 = pd.read_csv('/data/sim_train_2_EHH.csv', header=0, index_col=None).values\n",
    "train_3 = pd.read_csv('/data/sim_train_3_EHH.csv', header=0, index_col=None).values\n",
    "\n",
    "test_1 = pd.read_csv('/data/sim_test_1_EHH.csv', header=0, index_col=None).values\n",
    "test_2 = pd.read_csv('/data/sim_test_2_EHH.csv', header=0, index_col=None).values\n",
    "test_3 = pd.read_csv('/data/sim_test_3_EHH.csv', header=0, index_col=None).values\n",
    "\n",
    "train_y = pd.read_csv('/data/sim_train_y_EHH.csv', header=0, index_col=None).values\n",
    "test_y = pd.read_csv('/data/sim_test_y_EHH.csv', header=0, index_col=None).values"
   ]
  },
  {
   "cell_type": "code",
   "execution_count": 5,
   "metadata": {},
   "outputs": [
    {
     "name": "stdout",
     "output_type": "stream",
     "text": [
      "Epoch [1/500000], Loss: 0.8045\n",
      "Epoch [100/500000], Loss: 0.0536\n",
      "Epoch [200/500000], Loss: 0.0295\n",
      "Epoch [300/500000], Loss: 0.0246\n",
      "Epoch [400/500000], Loss: 0.0130\n",
      "Epoch [500/500000], Loss: 0.0092\n",
      "Epoch [600/500000], Loss: 0.0034\n",
      "Epoch [700/500000], Loss: 0.0009\n",
      "Epoch [800/500000], Loss: 0.0004\n",
      "Epoch [900/500000], Loss: 0.0002\n",
      "Epoch [1000/500000], Loss: 0.0001\n",
      "Early stopping\n"
     ]
    }
   ],
   "source": [
    "earlyStoppingPatience = 100\n",
    "learningRate= 0.0005\n",
    "weightDecay =0.0001\n",
    "\n",
    "y_train = train_y.flatten().astype(int)\n",
    "y_test = test_y.flatten().astype(int)\n",
    "\n",
    "Xg = torch.tensor(train_1, dtype=torch.float32).cuda()\n",
    "Xm = torch.tensor(train_2, dtype=torch.float32).cuda()\n",
    "Xs = torch.tensor(train_3, dtype=torch.float32).cuda()\n",
    "\n",
    "Xg_test = torch.tensor(test_1, dtype=torch.float32).cuda()\n",
    "Xm_test = torch.tensor(test_2, dtype=torch.float32).cuda()\n",
    "Xs_test = torch.tensor(test_3, dtype=torch.float32).cuda()\n",
    "\n",
    "y = torch.LongTensor(y_train).cuda()\n",
    "\n",
    "ds = TensorDataset(Xg, Xm,Xs,y)\n",
    "loader  = DataLoader(ds, batch_size=y_train.shape[0],shuffle=True)\n",
    "\n",
    "device = 'cuda' if torch.cuda.is_available() else 'cpu'\n",
    "\n",
    "num_epochs = 500000 \n",
    "net = DNN()\n",
    "net = net.to(device)\n",
    "early_stopping = EarlyStopping(patience=earlyStoppingPatience, verbose=False)\n",
    "MultiModalLoss = MultiModalLoss(2, 3, proxies_per_class=20).to(torch.device('cuda'))\n",
    "optimizer = optim.Adam([{\"params\": net.parameters(), \"lr\": learningRate,  \"weight_decay\":weightDecay},\n",
    "                  {\"params\": MultiModalLoss.parameters(), \"lr\": learningRate,\"weight_decay\":weightDecay}])\n",
    "\n",
    "for epoch in (range(num_epochs)):\n",
    "    running_loss1 = 0.0\n",
    "    running_loss2 = 0.0\n",
    "    for i, data in enumerate(loader, 0):\n",
    "        xg,xm,xs, y = data\n",
    "        output1,output2,output3 = net.forward_one(xg,xm,xs)\n",
    "        net.train()\n",
    "        optimizer.zero_grad()\n",
    "        loss = MultiModalLoss(torch.cat([output1,output2,output3], dim=1), y.view(-1))\n",
    "        loss.backward(retain_graph=True)\n",
    "        optimizer.step()\n",
    "        running_loss += loss.item()\n",
    "\n",
    "    early_stopping(running_loss, net)\n",
    "    if early_stopping.early_stop:\n",
    "        print(\"Early stopping\")\n",
    "        break\n",
    "\n",
    "    if (epoch+1) % 100 == 0 or epoch == 0:\n",
    "        print ('Epoch [{}/{}], Loss: {:.4f}'.format(epoch+1,  num_epochs, running_loss1))"
   ]
  },
  {
   "cell_type": "code",
   "execution_count": 9,
   "metadata": {},
   "outputs": [
    {
     "name": "stdout",
     "output_type": "stream",
     "text": [
      "Modality1  ACC 0.87560\n",
      "Modality2  ACC 0.52270\n",
      "Modality2  ACC 0.47120\n",
      "Multimodal  ACC 0.87340\n"
     ]
    }
   ],
   "source": [
    "        test1,test2,test3 = net.forward_one(Xg_test.clone().detach(),Xm_test.clone().detach(),Xs_test.clone().detach())\n",
    "        prob_test123 = MultiModalLoss.predict(torch.cat([test1,test2,test3], dim=1)).cpu().detach().numpy()\n",
    "\n",
    "        prob_test = test1.cpu().detach().numpy()\n",
    "        test1 =prob_test[:,1] \n",
    "        prob_test = test2.cpu().detach().numpy()\n",
    "        test2 =prob_test[:,1] \n",
    "        prob_test = test3.cpu().detach().numpy()\n",
    "        test3 =prob_test[:,1] \n",
    "        \n",
    "        test123 =prob_test123[:,1] \n",
    "        \n",
    "        print (\"Modality1  ACC %.5f\" %(accuracy_score(list(y_test),np.where(test1 > 0.5, 1, 0) ) ))\n",
    "        print (\"Modality2  ACC %.5f\" %(accuracy_score(list(y_test),np.where(test2 > 0.5, 1, 0) ) ))\n",
    "        print (\"Modality2  ACC %.5f\" %(accuracy_score(list(y_test),np.where(test3 > 0.5, 1, 0) ) ))\n",
    "        print (\"Multimodal  ACC %.5f\" %(accuracy_score(list(y_test),np.where(test123 > 0.5, 1, 0) ) ))"
   ]
  },
  {
   "cell_type": "code",
   "execution_count": 21,
   "metadata": {},
   "outputs": [
    {
     "data": {
      "text/plain": [
       "<AxesSubplot:ylabel='Proportion'>"
      ]
     },
     "execution_count": 21,
     "metadata": {},
     "output_type": "execute_result"
    },
    {
     "data": {
      "image/png": "[encoded data removed]",
      "text/plain": [
       "<Figure size 360x216 with 1 Axes>"
      ]
     },
     "metadata": {},
     "output_type": "display_data"
    }
   ],
   "source": [
    "sns.set_style(\"ticks\")\n",
    "plt.figure(figsize=(5,3))\n",
    "\n",
    "test1,test2,test3 = net.forward_one(Xg_test.clone().detach(),Xm_test.clone().detach(),Xs_test.clone().detach())\n",
    "data = pd.concat([pd.DataFrame(np.stack([test1.cpu().detach().numpy()[:5000,0].T,test2.cpu().detach().numpy()[:5000,0].T,test3.cpu().detach().numpy()[:5000,0].T])).T,pd.DataFrame(np.stack([test1.cpu().detach().numpy()[5000:,1].T,test2.cpu().detach().numpy()[5000:,1].T,test3.cpu().detach().numpy()[5000:,1].T])).T])\n",
    "sns.histplot(data=data,bins=10, palette=['#029e9e', '#d9601a','#db1a5e'], stat=\"proportion\", alpha  = 0.65, edgecolor='k', linewidth=2,common_norm = False)"
   ]
  }
 ],
 "metadata": {
  "kernelspec": {
   "display_name": "Python 3 (ipykernel)",
   "language": "python",
   "name": "python3"
  },
  "language_info": {
   "codemirror_mode": {
    "name": "ipython",
    "version": 3
   },
   "file_extension": ".py",
   "mimetype": "text/x-python",
   "name": "python",
   "nbconvert_exporter": "python",
   "pygments_lexer": "ipython3",
   "version": "3.7.9"
  }
 },
 "nbformat": 4,
 "nbformat_minor": 4
}
